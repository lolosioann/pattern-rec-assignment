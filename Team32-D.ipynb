{
 "cells": [
  {
   "cell_type": "markdown",
   "metadata": {},
   "source": [
    "# Αναγνώριση Προτύπων και Μηχανική Μάθηση - Εργασία 2024\n",
    "### Χαρίση Φαίδρα - ΧΧΧΧΧ, Λώλος Ιωάννης - 10674\n",
    "## Μέρος Δ"
   ]
  },
  {
   "cell_type": "code",
   "execution_count": null,
   "metadata": {
    "vscode": {
     "languageId": "plaintext"
    }
   },
   "outputs": [],
   "source": []
  }
 ],
 "metadata": {
  "language_info": {
   "name": "python"
  }
 },
 "nbformat": 4,
 "nbformat_minor": 2
}
